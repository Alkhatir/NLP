{
 "cells": [
  {
   "cell_type": "markdown",
   "metadata": {},
   "source": [
    "Information about your group!\n",
    "\n",
    "| <p style=\"text-align: center;\">First Name</p>  | <p style=\"text-align: center;\">Family Name</p> | Matr.-No. |\n",
    "| ---------------------------------------------- | ---------------------------------------------- | -------- |\n",
    "| <p style=\"text-align: left\">*EDIT!*</p>| <p style=\"text-align: left\">*EDIT!*</p> | *EDIT!* |\n",
    "| <p style=\"text-align: left\">*EDIT!*</p>| <p style=\"text-align: left\">*EDIT!*</p> | *EDIT!* |\n"
   ]
  },
  {
   "cell_type": "markdown",
   "metadata": {},
   "source": [
    "<h2 style=\"text-align: center\">344.105/6/7/12/13 UE: Natural Language Processing (WS2024/25)</h2>\n",
    "<h1 style=\"color:rgb(0,120,170)\">Assignment 1</h1>\n",
    "<h2 style=\"color:rgb(0,120,170)\">Document Classification with Standard Machine Learning Methods</h2>"
   ]
  },
  {
   "cell_type": "markdown",
   "metadata": {},
   "source": [
    "<div style=\"background-color:rgb(224, 243, 255)\">\n",
    "<b>Terms of Use</b><br>\n",
    "This  material is prepared for educational purposes at the Johannes Kepler University (JKU) Linz, and is exclusively provided to the registered students of the mentioned course at JKU. It is strictly forbidden to distribute the current file, the contents of the assignment, and its solution. The use or reproduction of this manuscript is only allowed for educational purposes in non-profit organizations, while in this case, the explicit prior acceptance of the author(s) is required.\n",
    "\n",
    "\n",
    "    \n",
    "</div>"
   ]
  },
  {
   "cell_type": "markdown",
   "metadata": {},
   "source": [
    "<h2>Table of contents</h2>\n",
    "<ol>\n",
    "    <a href=\"#section-general-guidelines\"><li style=\"font-size:large;font-weight:bold\">General Guidelines</li></a>\n",
    "    <a href=\"#section-preprocessing\"><li style=\"font-size:large;font-weight:bold\">Task A: Pre-processing & Feature Extraction (15 points)</li></a>\n",
    "    <a href=\"#section-training\"><li style=\"font-size:large;font-weight:bold\">Task B: Training and Results Analysis (15 points)</li></a>\n",
    "    <a href=\"#section-optional\"><li style=\"font-size:large;font-weight:bold\">Task C: Linear Model Interpretability (2 extra point)</li></a>\n",
    "    \n",
    "</ol>"
   ]
  },
  {
   "cell_type": "markdown",
   "metadata": {},
   "source": [
    "<a name=\"section-general-guidelines\"></a><h2 style=\"color:rgb(0,120,170)\">General Guidelines</h2>"
   ]
  },
  {
   "cell_type": "markdown",
   "metadata": {},
   "source": [
    "<div style=\"background-color:rgb(224, 243, 255)\">\n",
    "\n",
    "### Assignment objective\n",
    "\n",
    "The aim of the assignment is to implement a document (sentence) classification model with (standard) machine learning methods. The assignment in total has **30 points**; it also offers **2 extra points** which can cover any missing point.\n",
    "\n",
    "This Notebook encompasses all aspects of the assignment including the descriptions of tasks as well as your solutions and reports. Feel free to add any required cell for solutions. The cells can contain code, reports, charts, tables, or any other material, required for the assignment. Feel free to provide the solutions in an interactive and visual way! \n",
    "\n",
    "Please discuss any unclear point in the assignment in the provided forum available in MOODLE. It is also recommended to provide answers to your peer's questions. However when submitting a post, keep in mind to avoid providing solutions. Please let the tutor(s) know shall you find any error or unclarity in the assignment.\n",
    "\n",
    "</div>\n"
   ]
  },
  {
   "cell_type": "markdown",
   "metadata": {
    "editable": true,
    "slideshow": {
     "slide_type": ""
    },
    "tags": []
   },
   "source": [
    "<div style=\"background-color:rgb(224, 243, 255)\">\n",
    "\n",
    "### Libraries & Dataset\n",
    "\n",
    "The assignment should be implemented with recent versions of `Python` (>3.7). Any standard Python library can be used, so far that the library is free and can be simply installed using `pip` or `conda`. Examples of potentially useful libraries are `scikit-learn`, `numpy`, `scipy`, `gensim`, `nltk`, `spaCy`, and `AllenNLP`. Use the latest stable version of each library.\n",
    "\n",
    "To conduct the experiments, we use a subset of the `HumSet` dataset [1] (https://blog.thedeep.io/humset/). `HumSet` is created by the DEEP (https://www.thedeep.io) project – an open source platform which aims to facilitate processing of textual data for international humanitarian response organizations. The platform enables the classification of text excerpts, extracted from news and reports into a set of domain specific classes. The provided dataset contains the classes (labels) referring to the humanitarian sectors like agriculture, health, and protection. The dataset contains an overall number of 17,301 data points. \n",
    "\n",
    "Download the dataset from the Moodle page of the course.\n",
    "\n",
    "the provided zip file consists of the following files:\n",
    "- `thedeep.subset.train.txt`: Train set in csv format with three fields: sentence_id, text, and label.\n",
    "- `thedeep.subset.validation.txt`: Validation set in csv format with three fields: sentence_id, text, and label.\n",
    "- `thedeep.subset.test.txt`: Test set in csv format with three fields: sentence_id, text, and label.\n",
    "- `thedeep.subset.labels.txt`: Captions of the labels.\n",
    "- `thedeep.ToU.txt`: Terms of use of the dataset.\n",
    "\n",
    "[1] HumSet: Dataset of Multilingual Information Extraction and Classification for Humanitarian Crises Response\n",
    "*Selim Fekih, Nicolo' Tamagnone, Benjamin Minixhofer, Ranjan Shrestha, Ximena Contla, Ewan Oglethorpe and Navid Rekabsaz.* \n",
    "In Findings of the 2022 Conference on Empirical Methods in Natural Language Processing (Findings of EMNLP), December 2022.\n",
    "\n",
    "</div>\n",
    "\n"
   ]
  },
  {
   "cell_type": "markdown",
   "metadata": {},
   "source": [
    "<div style=\"background-color:rgb(224, 243, 255)\">\n",
    "\n",
    "### Submission\n",
    "\n",
    "Each group should submit the following two files:\n",
    "\n",
    "- One Jupyter Notebook file (`.ipynb`), containing all the code, results, visualizations, etc. **In the submitted Notebook, all the results and visualizations should already be present, and can be observed simply by loading the Notebook in a browser.** The Notebook must be self-contained, meaning that (if necessary) one can run all the cells from top to bottom without any error. Do not forget to put in your names and student numbers in the first cell of the Notebook. \n",
    "- The HTML file (`.html`) achieved from exporting the Jupyter Notebook to HTML (Download As HTML).\n",
    "\n",
    "You do not need to include the data files in the submission.\n",
    "\n",
    "\n",
    "</div>"
   ]
  },
  {
   "cell_type": "markdown",
   "metadata": {},
   "source": [
    "<a name=\"section-preprocessing\"></a><h2 style=\"color:rgb(0,120,170)\">Task A: Pre-processing & Feature Extraction (15 points)</h2>"
   ]
  },
  {
   "cell_type": "markdown",
   "metadata": {},
   "source": [
    "<div style=\"background-color:rgb(224, 243, 255)\">\n",
    "    \n",
    "**Preprocessing (5 points).** Load the train, validation, and test sets. Study the text and according to your judgements, apply at least <ins>two text cleaning/preprocessing methods</ins>. Punctuations marks, numbers, dates, case-sensitivity are some examples of the elements which can be potentially considered for cleaning/preprocessing. Tokenize the result text with a tokenizer of your choice. Report your approaches to text cleaning and tokenization and the reasons of your choices. Provide some examples, showing the effects of the applied approaches on the text.\n",
    "\n",
    "**Creating dictionary (5 points).** Create a dictionary of vocabularies following the guidelines discussed in the lecture. Next, reduce the size of dictionary using a method of your choice, for instance by considering a cut-off threshold on the tokens with low frequencies. When removing tokens from the dictionary, consider a strategy for handling Out-Of-Vocabulary (OOV) tokens, namely the ones in the train/validation/test datasets that that are not anymore in the dictionary. Some possible strategies could be to remove OOVs completely from the texts, or to replace them with a special token like <OOV\\>. Explain your approaches and report the statistics of the dictionary before and after the reduction.\n",
    "\n",
    "**Creating sentence vectors (5 points).** Use the dictionary to prepare <ins>two variations of document representation vectors</ins>, separately for train, validation, and test sets. Both variations follow a Bag-of-Words approach with a different token weighting method. One applied weighting must be `tf-idf` and the other one can be any other method discussed in the lecture such as `tc`, `tf`, `BM25`. These term weighting methods should be implemented; using a library to readily calculate the term weightings is not allowed. Report the applied approaches. Calculate and report the sparsity rate of the vectors of train, validation, and test sets, namely what percentages of the vectors in each set are filled with zeros.\n",
    "\n",
    "</div>"
   ]
  },
  {
   "cell_type": "code",
   "execution_count": 1,
   "metadata": {},
   "outputs": [],
   "source": [
    "import pandas as pd\n",
    "import re\n",
    "import nltk\n",
    "from nltk.corpus import stopwords\n",
    "from nltk.stem import PorterStemmer\n",
    "import spacy\n",
    "from collections import Counter\n",
    "import numpy as np"
   ]
  },
  {
   "cell_type": "code",
   "execution_count": 2,
   "metadata": {},
   "outputs": [
    {
     "name": "stdout",
     "output_type": "stream",
     "text": [
      "Train Data Sample:\n",
      "   sentence_id                                               text  label\n",
      "0         5446  In addition to the immediate life-saving inter...      9\n",
      "1         8812  There are approximately 2.6 million people cla...      3\n",
      "2        16709  While aid imports have held up recently, comme...      5\n",
      "3         3526  Heavy rainfalls as well as onrush of water fro...      0\n",
      "4         4928  Based on field reports 9 , the main production...      3\n",
      "\n",
      "Validation Data Sample:\n",
      "   sentence_id                                               text  label\n",
      "0          633  The veterans threw up roadblocks on the main n...      9\n",
      "1         6001  Water department complains about lack of skill...     11\n",
      "2        14014  On 13 February 2018, the Ministry of Health of...      4\n",
      "3        12225  In Kakuma and Kalobeyei, both host and refugee...      7\n",
      "4        10181  'Raqqa is now empty of civilians who had been ...      9\n",
      "\n",
      "Test Data Sample:\n",
      "   sentence_id                                               text  label\n",
      "0         5805  Overall 30% decrease in MAM Children admission...      8\n",
      "1        17120  In 2014, fear of Ebola also led to attacks on ...      9\n",
      "2        11901  Wheat is the staple food for most Afghans, com...      3\n",
      "3         2589  We have received serious allegations that two ...      9\n",
      "4         4188  Somali: 67 of 93 woredas hotspot . 410k MAM, 4...      8\n"
     ]
    }
   ],
   "source": [
    "data_path = \"nlp2023_24_data/\"\n",
    "\n",
    "# Load the datasets\n",
    "train_data = pd.read_csv(f\"{data_path}thedeep.subset.train.txt\", sep=\",\", names=[\"sentence_id\", \"text\", \"label\"])\n",
    "validation_data = pd.read_csv(f\"{data_path}thedeep.subset.validation.txt\", sep=\",\", names=[\"sentence_id\", \"text\", \"label\"])\n",
    "test_data = pd.read_csv(f\"{data_path}thedeep.subset.test.txt\", sep=\",\", names=[\"sentence_id\", \"text\", \"label\"])\n",
    "\n",
    "# Display a few rows to understand structure\n",
    "print(\"Train Data Sample:\")\n",
    "print(train_data.head())\n",
    "\n",
    "print(\"\\nValidation Data Sample:\")\n",
    "print(validation_data.head())\n",
    "\n",
    "print(\"\\nTest Data Sample:\")\n",
    "print(test_data.head())"
   ]
  },
  {
   "cell_type": "code",
   "execution_count": 3,
   "metadata": {},
   "outputs": [
    {
     "name": "stderr",
     "output_type": "stream",
     "text": [
      "[nltk_data] Downloading package stopwords to\n",
      "[nltk_data]     C:\\Users\\yssas\\AppData\\Roaming\\nltk_data...\n",
      "[nltk_data]   Package stopwords is already up-to-date!\n"
     ]
    }
   ],
   "source": [
    "# NLTK stopwords download\n",
    "nltk.download('stopwords')\n",
    "\n",
    "# Initialize stopwords list and stemmer\n",
    "stop_words = set(stopwords.words('english'))\n",
    "stemmer = PorterStemmer()\n",
    "\n",
    "# Load spacy lemmatizer\n",
    "nlp = spacy.load(\"en_core_web_sm\")"
   ]
  },
  {
   "cell_type": "code",
   "execution_count": 4,
   "metadata": {},
   "outputs": [
    {
     "name": "stdout",
     "output_type": "stream",
     "text": [
      "Original vs Cleaned Text (Train Data):\n",
      "                                                 text  \\\n",
      "0   In addition to the immediate life-saving inter...   \n",
      "1   There are approximately 2.6 million people cla...   \n",
      "2   While aid imports have held up recently, comme...   \n",
      "3   Heavy rainfalls as well as onrush of water fro...   \n",
      "4   Based on field reports 9 , the main production...   \n",
      "..                                                ...   \n",
      "95  The full recovery of pastoralist households wi...   \n",
      "96  Since 21 March, increased c lashes between Non...   \n",
      "97  The total people in need of protection interve...   \n",
      "98  The number of airstrikes reported in Yemen bet...   \n",
      "99  “The number of people seeking healthcare at Na...   \n",
      "\n",
      "                                         cleaned_text  \n",
      "0   addition immediate lifesaving intervention uni...  \n",
      "1   approximately <num> million people classify ph...  \n",
      "2   aid import hold recently commercial food fuel ...  \n",
      "3   heavy rainfall well onrush water upstream megh...  \n",
      "4   base field report <num> main production challe...  \n",
      "..                                                ...  \n",
      "95  full recovery pastoralist household least take...  \n",
      "96  since <num> <date> increase c lash nonstate ar...  \n",
      "97  total people need protection intervention acti...  \n",
      "98  number airstrike report yemen <date> <date> <n...  \n",
      "99  number people seek healthcare nawagai hospital...  \n",
      "\n",
      "[100 rows x 2 columns]\n"
     ]
    }
   ],
   "source": [
    "def clean_and_normalize_text(text, use_stemming=False, remove_stopwords=True):\n",
    "    # lowercase\n",
    "    text = text.lower()\n",
    "    \n",
    "    # Removes punctuation and special characters\n",
    "    text = re.sub(r\"[^\\w\\s]\", \"\", text)\n",
    "    \n",
    "    # Replaces numbers with NUMTOKEN token\n",
    "    text = re.sub(r\"\\d+\", \"NUMTOKEN\", text)\n",
    "    \n",
    "    # Replace months with DATETOKEN token\n",
    "    text = re.sub(r\"\\b(january|february|march|april|may|june|july|august|september|october|november|december)\\b\", \"DATETOKEN\", text, flags=re.IGNORECASE)\n",
    "    \n",
    "    # Tokenize\n",
    "    tokens = text.split()\n",
    "    \n",
    "    # Removes stopwords if True\n",
    "    if remove_stopwords:\n",
    "        tokens = [word for word in tokens if word not in stop_words]\n",
    "    \n",
    "    # Stemming or lemmatization\n",
    "    if use_stemming:\n",
    "        tokens = [stemmer.stem(word) for word in tokens]  # Stemming\n",
    "    else:\n",
    "        # Processes tokens individually, preserving NUMTOKEN and DATETOKEN\n",
    "        tokens = [token.lemma_ if token.text not in [\"NUMTOKEN\", \"DATETOKEN\"] else token.text for token in nlp(\" \".join(tokens))]\n",
    "    \n",
    "    # Replaces tokens back with <num> and <date> and clean up spaces\n",
    "    cleaned_text = \" \".join(tokens).replace(\"NUMTOKEN\", \"<num>\").replace(\"DATETOKEN\", \"<date>\")\n",
    "    \n",
    "    return cleaned_text\n",
    "\n",
    "# Apply the function to the datasets\n",
    "train_data['cleaned_text'] = train_data['text'].apply(clean_and_normalize_text)\n",
    "validation_data['cleaned_text'] = validation_data['text'].apply(clean_and_normalize_text)\n",
    "test_data['cleaned_text'] = test_data['text'].apply(clean_and_normalize_text)\n",
    "\n",
    "# Few examples to verify the output\n",
    "print(\"Original vs Cleaned Text (Train Data):\")\n",
    "print(train_data[['text', 'cleaned_text']].head(100))\n"
   ]
  },
  {
   "cell_type": "code",
   "execution_count": 5,
   "metadata": {},
   "outputs": [
    {
     "name": "stdout",
     "output_type": "stream",
     "text": [
      "Total unique tokens: 27221\n",
      "Vocabulary size after applying frequency threshold: 13045\n",
      "Sample of vocabulary: ['solve', 'necessitate', 'reproduce', 'biringi', 'ganda', 'abduct', 'alternate', 'ukraine', 'houthisaleh', 'ordeal']\n"
     ]
    }
   ],
   "source": [
    "# Build vocabulary\n",
    "def build_vocabulary(data, min_frequency=2):\n",
    "    # Tokenize all the cleaned text and count the frequencies\n",
    "    all_tokens = \" \".join(data['cleaned_text']).split()\n",
    "    # print(\"tokens\", all_tokens[:100])\n",
    "    token_counts = Counter(all_tokens)\n",
    "    \n",
    "    # Apply frequency threshold\n",
    "    vocabulary = {token for token, count in token_counts.items() if count >= min_frequency}\n",
    "    # print(\"vocab: 123\", vocabulary)\n",
    "    # Add a special token for OOV words\n",
    "    vocabulary.add(\"<OOV>\")\n",
    "    \n",
    "    return vocabulary, token_counts\n",
    "# print(train_data)\n",
    "# Create the vocabulary using the cleaned training data\n",
    "vocabulary, token_counts = build_vocabulary(train_data, min_frequency=2)\n",
    "\n",
    "# Show some basic stats about the vocabulary\n",
    "print(f\"Total unique tokens: {len(token_counts)}\")\n",
    "print(f\"Vocabulary size after applying frequency threshold: {len(vocabulary)}\")\n",
    "print(\"Sample of vocabulary:\", list(vocabulary)[:10])"
   ]
  },
  {
   "cell_type": "code",
   "execution_count": 6,
   "metadata": {},
   "outputs": [
    {
     "name": "stdout",
     "output_type": "stream",
     "text": [
      "Processed Validation Data Example:\n",
      "                                        cleaned_text  \\\n",
      "0  veteran throw roadblock main northbound highwa...   \n",
      "1  water department complain lack skilled worker ...   \n",
      "2  <num> <date> <num> ministry health democratic ...   \n",
      "3  kakuma kalobeyei host refugee community depend...   \n",
      "4  raqqa empty civilian take human shield say <nu...   \n",
      "5  <num> case malnutrition first <num> week <num>...   \n",
      "6  locust kill <num> agricultural crop idlib prov...   \n",
      "7  ground justify adoption principle statement me...   \n",
      "8  people force fetch foul water area darsasiya o...   \n",
      "9  iranian official say <num> people need emergen...   \n",
      "\n",
      "                                      processed_text  \n",
      "0  veteran throw roadblock main <OOV> highway mor...  \n",
      "1  water department complain lack skilled worker ...  \n",
      "2  <num> <date> <num> ministry health democratic ...  \n",
      "3  kakuma kalobeyei host refugee community depend...  \n",
      "4  raqqa empty civilian take human shield say <nu...  \n",
      "5  <num> case malnutrition first <num> week <num>...  \n",
      "6  locust kill <num> agricultural crop idlib prov...  \n",
      "7  ground justify adoption principle statement me...  \n",
      "8  people force fetch <OOV> water area <OOV> <OOV...  \n",
      "9  iranian official say <num> people need emergen...  \n"
     ]
    }
   ],
   "source": [
    "def replace_oov_tokens(text, vocabulary):\n",
    "    # Replaces words that are not in the vocab with <OOV>\n",
    "    tokens = text.split()\n",
    "    tokens = [token if token in vocabulary else \"<OOV>\" for token in tokens]\n",
    "    return \" \".join(tokens)\n",
    "\n",
    "# OOV replacment\n",
    "train_data['processed_text'] = train_data['cleaned_text']\n",
    "validation_data['processed_text'] = validation_data['cleaned_text'].apply(lambda x: replace_oov_tokens(x, vocabulary))\n",
    "test_data['processed_text'] = test_data['cleaned_text'].apply(lambda x: replace_oov_tokens(x, vocabulary))\n",
    "\n",
    "# examples\n",
    "print(\"Processed Validation Data Example:\")\n",
    "print(validation_data[['cleaned_text', 'processed_text']].head(10))"
   ]
  },
  {
   "cell_type": "code",
   "execution_count": 7,
   "metadata": {},
   "outputs": [],
   "source": [
    "# term frequency (TF)\n",
    "def calculate_term_frequency(data, vocabulary):\n",
    "    term_freq_matrix = np.zeros((len(data), len(vocabulary)))  # Initialize empty matrix\n",
    "    vocab_list = list(vocabulary)\n",
    "    \n",
    "    for i, doc in enumerate(data):\n",
    "        tokens = doc.split()\n",
    "        token_counts = Counter(tokens)\n",
    "        \n",
    "        for token, count in token_counts.items():\n",
    "            if token in vocabulary:\n",
    "                term_freq_matrix[i, vocab_list.index(token)] = count  # Fill in term frequency\n",
    "    \n",
    "    return term_freq_matrix"
   ]
  },
  {
   "cell_type": "code",
   "execution_count": 8,
   "metadata": {},
   "outputs": [
    {
     "name": "stdout",
     "output_type": "stream",
     "text": [
      "TF-IDF Train Shape: (12110, 13045)\n",
      "TF-IDF Validation Shape: (2596, 13045)\n",
      "TF-IDF Test Shape: (2595, 13045)\n"
     ]
    }
   ],
   "source": [
    "# inverse document frequency (IDF)\n",
    "def calculate_idf(data, vocabulary):\n",
    "    N = len(data)  # Number of documents\n",
    "    vocab_list = list(vocabulary)\n",
    "    df = np.zeros(len(vocabulary))  # Document frequency for each term\n",
    "\n",
    "    # document frequency for each term\n",
    "    for doc in data:\n",
    "        tokens = set(doc.split())  # Unique tokens in the document\n",
    "        for token in tokens:\n",
    "            if token in vocabulary:\n",
    "                df[vocab_list.index(token)] += 1\n",
    "\n",
    "    # Compute IDF for each term\n",
    "    idf = np.log((N + 1) / (df + 1))  # to avoid division by zero\n",
    "    return idf\n",
    "\n",
    "# TF-IDF\n",
    "def calculate_tfidf(tf_matrix, idf):\n",
    "    return tf_matrix * idf\n",
    "\n",
    "# TF-IDF vectors for train, validation and test sets\n",
    "def create_tfidf_vectors(train_data, validation_data, test_data, vocabulary):\n",
    "    # Term Frequency (TF)\n",
    "    tf_train = calculate_term_frequency(train_data, vocabulary)\n",
    "    tf_validation = calculate_term_frequency(validation_data, vocabulary)\n",
    "    tf_test = calculate_term_frequency(test_data, vocabulary)\n",
    "    \n",
    "    # Inverse Document Frequency (IDF)\n",
    "    idf = calculate_idf(train_data, vocabulary)\n",
    "    \n",
    "    # TF-IDF\n",
    "    tfidf_train = calculate_tfidf(tf_train, idf)\n",
    "    tfidf_validation = calculate_tfidf(tf_validation, idf)\n",
    "    tfidf_test = calculate_tfidf(tf_test, idf)\n",
    "    \n",
    "    return tfidf_train, tfidf_validation, tfidf_test\n",
    "\n",
    "# Apply to the datasets\n",
    "tfidf_train, tfidf_validation, tfidf_test = create_tfidf_vectors(\n",
    "    train_data['processed_text'], validation_data['processed_text'], test_data['processed_text'], vocabulary\n",
    ")\n",
    "\n",
    "# Example Output Shapes to Confirm Successful Execution\n",
    "print(f\"TF-IDF Train Shape: {tfidf_train.shape}\")\n",
    "print(f\"TF-IDF Validation Shape: {tfidf_validation.shape}\")\n",
    "print(f\"TF-IDF Test Shape: {tfidf_test.shape}\")\n"
   ]
  },
  {
   "cell_type": "code",
   "execution_count": 9,
   "metadata": {},
   "outputs": [
    {
     "name": "stdout",
     "output_type": "stream",
     "text": [
      "TF Train Shape: (12110, 13045)\n",
      "TF Validation Shape: (2596, 13045)\n",
      "TF Test Shape: (2595, 13045)\n"
     ]
    }
   ],
   "source": [
    "# Function to calculate raw term frequency vectors (already implemented above)\n",
    "def create_tf_vectors(train_data, validation_data, test_data, vocabulary):\n",
    "    tf_train = calculate_term_frequency(train_data, vocabulary)\n",
    "    tf_validation = calculate_term_frequency(validation_data, vocabulary)\n",
    "    tf_test = calculate_term_frequency(test_data, vocabulary)\n",
    "    return tf_train, tf_validation, tf_test\n",
    "\n",
    "# Generate TF Vectors\n",
    "tf_train, tf_validation, tf_test = create_tf_vectors(\n",
    "    train_data['processed_text'], validation_data['processed_text'], test_data['processed_text'], vocabulary\n",
    ")\n",
    "\n",
    "# Example Output Shapes to Confirm Successful Execution\n",
    "print(f\"TF Train Shape: {tf_train.shape}\")\n",
    "print(f\"TF Validation Shape: {tf_validation.shape}\")\n",
    "print(f\"TF Test Shape: {tf_test.shape}\")"
   ]
  },
  {
   "cell_type": "code",
   "execution_count": 10,
   "metadata": {},
   "outputs": [],
   "source": [
    "def calculate_sparsity(matrix):\n",
    "    total_elements = matrix.size\n",
    "    zero_elements = np.sum(matrix == 0)\n",
    "    sparsity_rate = (zero_elements / total_elements) * 100\n",
    "    return sparsity_rate"
   ]
  },
  {
   "cell_type": "code",
   "execution_count": 11,
   "metadata": {},
   "outputs": [
    {
     "name": "stdout",
     "output_type": "stream",
     "text": [
      "Sparsity Rate (TF-IDF - Train): 99.75%\n",
      "Sparsity Rate (TF-IDF - Validation): 99.75%\n",
      "Sparsity Rate (TF-IDF - Test): 99.75%\n"
     ]
    }
   ],
   "source": [
    "train_sparsity_tfidf = calculate_sparsity(tfidf_train)\n",
    "validation_sparsity_tfidf = calculate_sparsity(tfidf_validation)\n",
    "test_sparsity_tfidf = calculate_sparsity(tfidf_test)\n",
    "\n",
    "# Print sparsity rates\n",
    "print(f\"Sparsity Rate (TF-IDF - Train): {train_sparsity_tfidf:.2f}%\")\n",
    "print(f\"Sparsity Rate (TF-IDF - Validation): {validation_sparsity_tfidf:.2f}%\")\n",
    "print(f\"Sparsity Rate (TF-IDF - Test): {test_sparsity_tfidf:.2f}%\")"
   ]
  },
  {
   "cell_type": "code",
   "execution_count": 12,
   "metadata": {},
   "outputs": [
    {
     "name": "stdout",
     "output_type": "stream",
     "text": [
      "Sparsity Rate (TF - Train): 99.75%\n",
      "Sparsity Rate (TF - Validation): 99.75%\n",
      "Sparsity Rate (TF - Test): 99.75%\n"
     ]
    }
   ],
   "source": [
    "train_sparsity_tf = calculate_sparsity(tf_train)\n",
    "validation_sparsity_tf = calculate_sparsity(tf_validation)\n",
    "test_sparsity_tf = calculate_sparsity(tf_test)\n",
    "\n",
    "# Print sparsity rates\n",
    "print(f\"Sparsity Rate (TF - Train): {train_sparsity_tf:.2f}%\")\n",
    "print(f\"Sparsity Rate (TF - Validation): {validation_sparsity_tf:.2f}%\")\n",
    "print(f\"Sparsity Rate (TF - Test): {test_sparsity_tf:.2f}%\")"
   ]
  },
  {
   "cell_type": "markdown",
   "metadata": {},
   "source": [
    "<a name=\"section-training\"></a><h2 style=\"color:rgb(0,120,170)\">Task B: Training and Results Analysis (15 points)</h2>"
   ]
  },
  {
   "cell_type": "markdown",
   "metadata": {},
   "source": [
    "<div style=\"background-color:rgb(224, 243, 255)\">\n",
    "\n",
    "To evaluate the models, use <ins>accuracy</ins> as the metric. \n",
    "\n",
    "**Dummy baseline (2 points).** Create one dummy baseline classifier that predicts the validation/test labels only based on the distribution of the labels in the training set (without any use of the feature vectors). This is a weak baseline and acts as a sanity check for the actual classifiers.\n",
    "\n",
    "**Training and tuning classifiers (5 points).** Select at least <ins>two classification algorithms</ins> from standard machine learning classifiers. Using each classification algorithm, train a machine learning model on each of the variations of feature vectors. This should result in <ins>four experiment sets</ins> (2 variations of feature vectors × 2 classification algorithms). The ML model in each of the experiments possibly have several involving hyper-parameters. For each experiment, select <ins>one of the hyper-parameters and tune its value</ins>. The tuning process is done by first assigning at least <ins>three values</ins> to the hyper-parameter, then training separate models based on each value, and finally using the evaluation results on the validation set to select the best-performing model. Report the studied hyper-parameters, the evaluation results of each on validation set, and finally the selected value of the hyper-parameter. \n",
    "\n",
    "**Evaluation, reporting results, and discussion (3 point).** Evaluate the selected models of the four experiments on the test set. Report the results of <ins>the four experiments on both validation and test sets (side by side) in one table as well as in one plot</ins>. Compare different experiments and models. Are the test results lower(/higher) than the validation results? If it is the case, where can it be rooted from? Among all these models and variations, what are the most important factors improving the classification results?\n",
    "\n",
    "**Confusion matrix (2 point).** Select the best performing model among the experiments and use it to create a confusion matrix. The matrix shows the predicted versus true results per each label. Explain your observations on the matrix. Across which classes do you observe significant confusions?\n",
    "\n",
    "**Features visualization (3 point).** Continue with the best performing model and now take its feature vectors for the *dataitems in the test set*. Project these feature vectors to a 2-dimensional space using the TSNE method.  Using these 2-dimensional vectors, create two plots where the dataitems are shown as points (small circles) on the plots. The plots look exactly the same but only differ in the coloring of the data points. The first plot colors every dataitem with its *true label*, while the second one colors each according to its *predicted label by the model*. Keep in mind to assign the same colors to the classes of the plots, so that the plots are visually comparable. Put these two plots side by side, observe the differences, and compare the results. Report your observations.\n",
    "\n",
    "\n",
    "</div>"
   ]
  },
  {
   "cell_type": "code",
   "execution_count": null,
   "metadata": {},
   "outputs": [],
   "source": []
  },
  {
   "cell_type": "code",
   "execution_count": null,
   "metadata": {},
   "outputs": [],
   "source": []
  },
  {
   "cell_type": "markdown",
   "metadata": {},
   "source": [
    "<a name=\"section-optional\"></a><h2 style=\"color:rgb(0,120,170)\">Task C: Linear Model Interpretability (2 extra points)</h2>"
   ]
  },
  {
   "cell_type": "markdown",
   "metadata": {},
   "source": [
    "<div style=\"background-color:rgb(224, 243, 255)\">\n",
    "Train a logistic regression model on one of the document representations. Take the coefficient weights, learned by the model, on each dimension (which here corresponds to each token in the dictionary). Separately for each class, study what are the tokens that have the highest contributions/importance for the predictions of the model.\n",
    "</div>"
   ]
  },
  {
   "cell_type": "code",
   "execution_count": null,
   "metadata": {},
   "outputs": [],
   "source": []
  },
  {
   "cell_type": "code",
   "execution_count": null,
   "metadata": {},
   "outputs": [],
   "source": []
  }
 ],
 "metadata": {
  "kernelspec": {
   "display_name": "nlp",
   "language": "python",
   "name": "nlp"
  },
  "language_info": {
   "codemirror_mode": {
    "name": "ipython",
    "version": 3
   },
   "file_extension": ".py",
   "mimetype": "text/x-python",
   "name": "python",
   "nbconvert_exporter": "python",
   "pygments_lexer": "ipython3",
   "version": "3.10.15"
  }
 },
 "nbformat": 4,
 "nbformat_minor": 4
}
