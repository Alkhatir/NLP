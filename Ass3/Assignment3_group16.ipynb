{
  "cells": [
    {
      "cell_type": "markdown",
      "metadata": {
        "id": "HUGhn9rVgDN0"
      },
      "source": [
        "Please fill out the information of your group!\n",
        "\n",
        "| <p style=\"text-align: center;\">First Name</p>  | <p style=\"text-align: center;\">Family Name</p> | Matr.-No. |\n",
        "| ---------------------------------------------- | ---------------------------------------------- | -------- |\n",
        "| <p style=\"text-align: left\">ISSA</p>| <p style=\"text-align: left\">Sayegh</p> | k11904028 |\n",
        "| <p style=\"text-align: left\">PEER</p>| <p style=\"text-align: left\">HANNA</p> | k12220447 |\n"
      ]
    },
    {
      "cell_type": "markdown",
      "metadata": {
        "id": "3kF9OyBVgDN1"
      },
      "source": [
        "<h2 style=\"text-align: center\">344.075 KV: Natural Language Processing (WS2024)</h2>\n",
        "<h1 style=\"color:rgb(0,120,170)\">Assignment 3</h1>\n",
        "<h2 style=\"color:rgb(0,120,170)\">Document Classification with PyTorch and BERT</h2>"
      ]
    },
    {
      "cell_type": "markdown",
      "metadata": {
        "id": "W0GjAsc6gDN2"
      },
      "source": [
        "<b>Terms of Use</b><br>\n",
        "This  material is prepared for educational purposes at the Johannes Kepler University (JKU) Linz, and is exclusively provided to the registered students of the mentioned course at JKU. It is strictly forbidden to distribute the current file, the contents of the assignment, and its solution. The use or reproduction of this manuscript is only allowed for educational purposes in non-profit organizations, while in this case, the explicit prior acceptance of the author(s) is required.\n",
        "\n",
        "\n",
        "**Authors:** Shah Nawaz, Shahed Masoudian<br>\n"
      ]
    },
    {
      "cell_type": "markdown",
      "metadata": {
        "id": "HYpU7gmrgDN2"
      },
      "source": [
        "<h2>Table of contents</h2>\n",
        "<ol>\n",
        "    <a href=\"#section-general-guidelines\"><li style=\"font-size:large;font-weight:bold\">General Guidelines</li></a>\n",
        "    <a href=\"#section-tensorboard\"><li style=\"font-size:large;font-weight:bold\">Bonus Task: Logging and Publishing Experiment Results (2 extra point)</li></a>\n",
        "    <a href=\"#section-taskA\"><li style=\"font-size:large;font-weight:bold\">Task A: Document Classification with PyTorch (25 points)</li></a>\n",
        "    <a href=\"#section-taskB\"><li style=\"font-size:large;font-weight:bold\">Task B: Document Classification with BERT (15 points)</li></a>\n",
        "    \n",
        "    \n",
        "</ol>"
      ]
    },
    {
      "cell_type": "markdown",
      "metadata": {
        "id": "GXUl6OC5gDN2"
      },
      "source": [
        "<a name=\"section-general-guidelines\"></a><h2 style=\"color:rgb(0,120,170)\">General Guidelines</h2>"
      ]
    },
    {
      "cell_type": "markdown",
      "metadata": {
        "id": "DooM2JwLgDN2"
      },
      "source": [
        "### Assignment objective\n",
        "This assignment aims to provide the necessary practices for learning the principles of deep learning programing in NLP using PyTorch. To this end, Task A provides the space for becoming fully familiar with PyTorch programming by implementing a \"simple\" document (sentence) classification model with PyTorch, and Task B extends this classifier with a BERT model. As the assignment requires working with PyTorch and Huggingface Transformers, please familiarize yourself with these libraries using any possible available teaching resources in particular the libraries' documentations. The assignment has in total **40 points**, and also offers **2 extra points** which can cover any missing point.\n",
        "\n",
        "This Notebook encompasses all aspects of the assignment, namely the descriptions of tasks as well as your solutions and reports. Feel free to add any required cell for solutions. The cells can contain code, reports, charts, tables, or any other material, required for the assignment. Feel free to provide the solutions in an interactive and visual way!\n",
        "\n",
        "Please discuss any unclear point in the assignment in the provided forum in MOODLE. It is also encouraged to provide answers to your peer's questions. However when submitting a post, keep in mind to avoid providing solutions. Please let the tutor(s) know shall you find any error or unclarity in the assignment.\n"
      ]
    },
    {
      "cell_type": "markdown",
      "metadata": {
        "id": "QYPlvPe9gDN2"
      },
      "source": [
        "### Libraries & Dataset\n",
        "\n",
        "The assignment should be implemented with recent versions of `Python`, `PyTorch` and, `transformers`. Any standard Python library can be used, so far that the library is free and can be simply installed using `pip` or `conda`. Examples of potentially useful libraries are `scikit-learn`, `numpy`, `scipy`, `gensim`, `nltk`, `spaCy`, and `AllenNLP`. Use the latest stable version of each library.\n",
        "\n",
        "To conduct the experiments, we use a subset of the `HumSet` dataset [1] (https://blog.thedeep.io/humset/). `HumSet` is created by the DEEP (https://www.thedeep.io) project – an open source platform which aims to facilitate processing of textual data for international humanitarian response organizations. The platform enables the classification of text excerpts, extracted from news and reports into a set of domain specific classes. The provided dataset contains the classes (labels) referring to the humanitarian sectors like agriculture, health, and protection. The dataset contains an overall number of 17,301 data points.\n",
        "\n",
        "Download the dataset from the Moodle page of the course.\n",
        "\n",
        "the provided zip file consists of the following files:\n",
        "- `thedeep.subset.train.txt`: Train set in csv format with three fields: sentence_id, text, and label.\n",
        "- `thedeep.subset.validation.txt`: Validation set in csv format with three fields: sentence_id, text, and label.\n",
        "- `thedeep.subset.test.txt`: Test set in csv format with three fields: sentence_id, text, and label.\n",
        "- `thedeep.subset.label.txt`: Captions of the labels.\n",
        "- `thedeep.ToU.txt`: Terms of use of the dataset.\n",
        "\n",
        "[1] HumSet: Dataset of Multilingual Information Extraction and Classification for Humanitarian Crises Response\n",
        "*Selim Fekih, Nicolo' Tamagnone, Benjamin Minixhofer, Ranjan Shrestha, Ximena Contla, Ewan Oglethorpe and Navid Rekabsaz.*\n",
        "In Findings of the 2022 Conference on Empirical Methods in Natural Language Processing (Findings of EMNLP), December 2022.\n"
      ]
    },
    {
      "cell_type": "markdown",
      "metadata": {
        "id": "KpCnTCqtgDN3"
      },
      "source": [
        "### Submission\n",
        "\n",
        "Each group should submit the following two files:\n",
        "\n",
        "- One Jupyter Notebook file (`.ipynb`), containing all the code, results, visualizations, etc. **In the submitted Notebook, all the results and visualizations should already be present, and can be observed simply by loading the Notebook in a browser.** The Notebook must be self-contained, meaning that (if necessary) one can run all the cells from top to bottom without any error. Do not forget to put in your names and student numbers in the first cell of the Notebook.\n",
        "- The HTML file (`.html`) achieved from exporting the Jupyter Notebook to HTML (Download As HTML).\n",
        "\n",
        "You do not need to include the data files in the submission.\n",
        "\n"
      ]
    },
    {
      "cell_type": "markdown",
      "metadata": {
        "id": "tYcHFkyJgDN3"
      },
      "source": [
        "<a name=\"section-tensorboard\"></a><h2 style=\"color:rgb(0,120,170)\">Bonus Task: Logging and Publishing Experiment Results (2 extra point)</h2>"
      ]
    },
    {
      "cell_type": "markdown",
      "metadata": {
        "id": "NwoCxabhgDN3"
      },
      "source": [
        "In all experiments of this assignment, use any experiment monitoring tool like [`TensorBoard`](https://www.tensorflow.org/tensorboard), [`wandb`](https://wandb.ai) to log and store all useful information about the training and evaluation of the models. Feel free to log any important aspect in particular the changes in evaluation results on validation, in training loss, and in learning rate.\n",
        "\n",
        "After finalizing all experiments and cleaning any unnecessary experiment, **provide the URL to the results monitoring page below**.\n",
        "\n",
        "For instance if using [`TensorBoard.dev`](https://tensorboard.dev), you can run the following command in the folder of log files: `tensorboard dev upload --name my_exp --logdir path/to/output_dir`, and take the provided URL to the TensorBoard's console.\n"
      ]
    },
    {
      "cell_type": "markdown",
      "metadata": {
        "id": "eKh5Q2pZgDN3"
      },
      "source": [
        "**URL :** *EDIT!*"
      ]
    },
    {
      "cell_type": "markdown",
      "metadata": {
        "id": "dSGlnszMgDN3"
      },
      "source": [
        "<a name=\"section-taskA\"></a><h2 style=\"color:rgb(0,120,170)\">Task A: Document Classification with PyTorch (25 points)</h2>"
      ]
    },
    {
      "cell_type": "markdown",
      "metadata": {
        "id": "YJt7mSR9gDN3"
      },
      "source": [
        "The aim of this task is identical to the one of Assignment 2 - Task B, namely to design a document classification model that exploits pre-trained word embeddings. It is of course allowed to use the preprocessed text, the dictionary, or any other relevant code or processings, done in the previous assignments.\n",
        "\n",
        "In this task, you implement a document classification model using PyTorch, which given a document/sentence (consisting of a set of words) predicts the corresponding class. Before getting started with coding, have a look at the <a href=\"#section-tensorboard\">optional task</a>, as you may want to already include `Tensorboard` in the code. The implementation of the classifier should cover the points below.\n",
        "\n",
        "**Preprocessing and dictionary (1 point):** Following previous assignments, load the train, validation, and test datasets, apply necessary preprocessing steps, and create a dictionary of words.\n",
        "\n",
        "**Data batching (4 points):** Using the dictionary, create batches for any given dataset (train/validation/test). Each batch is a two-dimensional matrix of *batch-size* to *max-document-length*, containing the IDs of the words in the corresponding documents. *Batch-size* and *max-document-length* are two hyper-parameters and can be set to any appropriate values (*Batch-size* must be higher than 1 and *max-document-length* at least 50 words). If a document has more than *max-document-length* words, only the first *max-document-length* words should be kept.\n",
        "\n",
        "**Word embedding lookup (2 point):** Using `torch.nn.Embedding`, create a lookup for the embeddings of all the words in the dictionary. The lookup is in fact a matrix, which maps the ID of each word to the corresponding word vector. Similar to Assignment 2, use the pre-trained vectors of a word embedding model (like word2vec or GloVe) to initialize the word embeddings of the lookup. Keep in mind that the embeddings of the words in the lookup should be matched with the correct vector in the pretrained word embedding. If the vector of a word in the lookup does not exist in the pretrained word embeddings, the corresponding vector should be initialized randomly.\n",
        "\n",
        "**Model definition (3 points):** Define the class `ClassificationAverageModel` as a PyTorch model. In the initialization procedure, the model receives the word embedding lookup, and includes it in the model as model's parameters. These embeddings parameters should be trainable, meaning that the word vectors get updated during model training. Feel free to add any other parameters to the model, which might be necessary for accomplishing the functionalities explained in the following.\n",
        "\n",
        "**Forward function (5 points):** The forward function of the model receives a batch of data, and first fetches the corresponding embeddings of the word IDs in the batch using the lookup. Similar to Assignment 2, the embedding of a document is created by calculating the *element-wise mean* of the embeddings of the document's words. Formally, given the document $d$, consisting of words $\\left[ v_1, v_2, ..., v_{|d|} \\right]$, the document representation $\\mathbf{e}_d$ is defined as:\n",
        "\n",
        "$$\\mathbf{e}_d = \\frac{1}{|d|}\\sum_{i=1}^{|d|}{\\mathbf{e}_{v_i}}$$\n",
        "\n",
        "where $\\mathbf{e}_{v}$ is the vector of the word $v$, and $|d|$ is the length of the document. An important point in the implementation of this formula is that the documents in the batch might have different lengths and therefore each document should be divided by its corresponding $|d|$. Finally, this document embedding is utilized to predict the probability of the output classes, done by applying a linear transformation from the embeddings size to the number of classes, followed by Softmax. The linear transformation also belongs to the model's parameters and will be learned in training.\n",
        "\n",
        "**Loss Function and optimization (2 point):** The loss between the predicted and the actual classes is calculated using Negative Log Likelihood or Cross Entropy. Update the model's parameters using any appropriate optimization mechanism such as Adam.\n",
        "\n",
        "**Early Stopping (2 points):** After each epoch, evaluate the model on the *validation set* using accuracy. If the evaluation result (accuracy) improves, save the model as the best performing one so far. If the results are not improving after a certain number of evaluation rounds (set as another hyper-parameter) or if training reaches a certain number of epochs, terminate the training procedure.\n",
        "\n",
        "**Test Set Evaluation (1 point):** After finishing the training, load the (already stored) best performing model, and use it for class prediction on the test set.\n",
        "\n",
        "**Reporting (1 point):** During loading and processing the collection, provide sufficient information and examples about the data and the applied processing steps. Report the results of the best performing model on the validation and test set in a table.\n",
        "\n",
        "**Overall functionality of the training procedure (4 point).**\n"
      ]
    },
    {
      "cell_type": "code",
      "execution_count": 3,
      "metadata": {
        "colab": {
          "base_uri": "https://localhost:8080/"
        },
        "id": "lupBB6PFgDN3",
        "outputId": "fa64e931-4ab5-4ad7-d6be-0a64b70304cd"
      },
      "outputs": [
        {
          "name": "stderr",
          "output_type": "stream",
          "text": [
            "[nltk_data] Downloading package stopwords to C:\\Users\\Bashar\n",
            "[nltk_data]     Hanna\\AppData\\Roaming\\nltk_data...\n",
            "[nltk_data]   Package stopwords is already up-to-date!\n"
          ]
        },
        {
          "name": "stdout",
          "output_type": "stream",
          "text": [
            "--------------------------------------------------\n",
            "Original vs Cleaned Text (Train Data):\n",
            "                                                text  \\\n",
            "0  In addition to the immediate life-saving inter...   \n",
            "1  There are approximately 2.6 million people cla...   \n",
            "2  While aid imports have held up recently, comme...   \n",
            "3  Heavy rainfalls as well as onrush of water fro...   \n",
            "4  Based on field reports 9 , the main production...   \n",
            "\n",
            "                                        cleaned_text  \n",
            "0  addition immediate life save intervention   un...  \n",
            "1  approximately <num> million people classify ph...  \n",
            "2  aid import hold recently   commercial food fue...  \n",
            "3  heavy rainfall well onrush water upstream megh...  \n",
            "4  base field report <num>    main production cha...  \n",
            "--------------------------------------------------\n",
            "//////////////////////////////////////////////////\n",
            "Total unique tokens: 22796\n",
            "Vocabulary size after applying frequency threshold: 12072\n",
            "Sample of vocabulary: ['neglect', 'ndoh', 'haut', 'ungrade', 'meaning', 'cure', 'basket', 'signify', 'primary', 'hurriyet']\n",
            "//////////////////////////////////////////////////\n",
            "Processed Validation Data Example:\n",
            "                                        cleaned_text  \\\n",
            "0  veteran throw roadblock main northbound highwa...   \n",
            "1  water department complain lack skilled worker ...   \n",
            "2  <num> <date> <num>   ministry health democrati...   \n",
            "3  kakuma kalobeyei   host refugee community depe...   \n",
            "4  ' raqqa empty civilian take human shield ' say...   \n",
            "5  <num> case malnutrition first <num> week <num>...   \n",
            "6  \" locust kill <num>   agricultural crop idlib ...   \n",
            "7  ground justify adoption principle statement me...   \n",
            "8  \" people force fetch foul water area darsasiya...   \n",
            "9  iranian official say <num> <num> people need e...   \n",
            "\n",
            "                                      processed_text  \n",
            "0  veteran throw roadblock main <OOV> highway mor...  \n",
            "1  water department complain lack skilled worker ...  \n",
            "2  <num> <date> <num> ministry health democratic ...  \n",
            "3  kakuma kalobeyei host refugee community depend...  \n",
            "4  ' raqqa empty civilian take human shield ' say...  \n",
            "5  <num> case malnutrition first <num> week <num>...  \n",
            "6  \" locust kill <num> agricultural crop idlib pr...  \n",
            "7  ground justify adoption principle statement me...  \n",
            "8  \" people force fetch <OOV> water area <OOV> on...  \n",
            "9  iranian official say <num> <num> people need e...  \n"
          ]
        }
      ],
      "source": [
        "import pandas as pd\n",
        "import re\n",
        "import nltk\n",
        "from nltk.corpus import stopwords\n",
        "from nltk.stem import PorterStemmer\n",
        "import spacy\n",
        "from collections import Counter\n",
        "import numpy as np\n",
        "\n",
        "# Load the dataset\n",
        "data_path = \"../nlp2023_24_data/\"\n",
        "train_data = pd.read_csv(f\"{data_path}thedeep.subset.train.txt\", sep=\",\", names=[\"sentence_id\", \"text\", \"label\"])\n",
        "validation_data = pd.read_csv(f\"{data_path}thedeep.subset.validation.txt\", sep=\",\", names=[\"sentence_id\", \"text\", \"label\"])\n",
        "test_data = pd.read_csv(f\"{data_path}thedeep.subset.test.txt\", sep=\",\", names=[\"sentence_id\", \"text\", \"label\"])\n",
        "\n",
        "# Download and set up stopwords\n",
        "nltk.download('stopwords')\n",
        "stop_words = set(stopwords.words('english'))\n",
        "\n",
        "# Initialize Spacy and Stemmer\n",
        "nlp = spacy.load(\"en_core_web_sm\")\n",
        "stemmer = PorterStemmer()\n",
        "\n",
        "def clean_and_normalize_text(text, use_stemming=False, remove_stopwords=True):\n",
        "    \"\"\"\n",
        "    Cleans and normalizes text by lowercasing, removing special characters, and handling tokens like NUMTOKEN and DATETOKEN.\n",
        "    \"\"\"\n",
        "    # Lowercase\n",
        "    text = text.lower()\n",
        "\n",
        "    # Replace numbers and months\n",
        "    text = re.sub(r\"\\b\\d+(\\.\\d+)?(/\\d+)?\\b\", \"NUMTOKEN\", text)  # Replace numbers with NUMTOKEN\n",
        "    text = re.sub(r\"\\b(january|february|march|april|may|june|july|august|september|october|november|december)\\b\", \"DATETOKEN\", text, flags=re.IGNORECASE)\n",
        "    #text = re.sub(r\"\\b(monday|tuesday|wednesday|thursday|friday|saturday|sunday)\\b\", \"DATETOKEN\", text, flags=re.IGNORECASE)\n",
        "    text = text.replace(\".\", \" \")  # Remove periods\n",
        "    text = text.replace(\",\", \" \")  # Remove commas\n",
        "    text = text.replace(\"?\", \" \")  # Remove question marks\n",
        "    text = text.replace(\"!\", \" \")  # Remove exclamation marks\n",
        "    text = text.replace(\";\", \" \")  # Remove semicolons\n",
        "    text = text.replace(\":\", \" \")  # Remove colons\n",
        "    text = text.replace(\"(\", \" \")  # Remove parentheses\n",
        "    text = text.replace(\")\", \" \")  # Remove parentheses\n",
        "    text = text.replace(\"%\", \" \")  # Remove percentage signs\n",
        "    text = text.replace(\"$\", \" \")  # Remove dollar signs\n",
        "    text = text.replace(\"#\", \" \")  # Remove hashtags\n",
        "    text = text.replace(\"&\", \" \")  # Remove ampersands\n",
        "    text = text.replace(\"-\", \" \")  # Remove hyphens\n",
        "    text = text.replace(\"+\", \" \")  # Remove plus signs\n",
        "    text = text.replace(\"~\", \" \")  # Remove tildes\n",
        "    # Tokenize using Spacy\n",
        "    doc = nlp(text)\n",
        "\n",
        "    tokens = []\n",
        "    for token in doc:\n",
        "        # Skip stopwords if remove_stopwords is True\n",
        "        if remove_stopwords and token.text in stop_words:\n",
        "            continue\n",
        "        # Preserve NUMTOKEN and DATETOKEN, otherwise stem/lemmatize\n",
        "        if token.text in [\"NUMTOKEN\", \"DATETOKEN\"]:\n",
        "            tokens.append(token.text)\n",
        "        elif use_stemming:\n",
        "            tokens.append(stemmer.stem(token.text))\n",
        "        else:\n",
        "            tokens.append(token.lemma_)  # Use lemmatization\n",
        "\n",
        "    # Join tokens and replace back special tokens\n",
        "    cleaned_text = \" \".join(tokens).replace(\"NUMTOKEN\", \"<num>\").replace(\"DATETOKEN\", \"<date>\")\n",
        "    return cleaned_text\n",
        "\n",
        "# Apply cleaning to datasets\n",
        "train_data['cleaned_text'] = train_data['text'].apply(clean_and_normalize_text)\n",
        "validation_data['cleaned_text'] = validation_data['text'].apply(clean_and_normalize_text)\n",
        "test_data['cleaned_text'] = test_data['text'].apply(clean_and_normalize_text)\n",
        "\n",
        "print(\"-\" * 50)\n",
        "print(\"Original vs Cleaned Text (Train Data):\")\n",
        "print(train_data[['text', 'cleaned_text']].head())\n",
        "print(\"-\" * 50)\n",
        "\n",
        "def build_vocabulary(data, min_frequency=2):\n",
        "    \"\"\"\n",
        "    Builds a vocabulary from the cleaned text based on token frequency.\n",
        "    \"\"\"\n",
        "    # Tokenize all the cleaned text and count the frequencies\n",
        "    all_tokens = \" \".join(data['cleaned_text']).split()\n",
        "    token_counts = Counter(all_tokens)\n",
        "\n",
        "    # Apply frequency threshold\n",
        "    vocabulary = {token for token, count in token_counts.items() if count >= min_frequency}\n",
        "\n",
        "    # Add a special token for OOV words\n",
        "    vocabulary.add(\"<OOV>\")\n",
        "\n",
        "    return vocabulary, token_counts\n",
        "\n",
        "# Build vocabulary from training data\n",
        "vocabulary, token_counts = build_vocabulary(train_data, min_frequency=2)\n",
        "\n",
        "print(\"/\" * 50)\n",
        "print(f\"Total unique tokens: {len(token_counts)}\")\n",
        "print(f\"Vocabulary size after applying frequency threshold: {len(vocabulary)}\")\n",
        "print(\"Sample of vocabulary:\", list(vocabulary)[:10])\n",
        "print(\"/\" * 50)\n",
        "\n",
        "def replace_oov_tokens(text, vocabulary):\n",
        "    \"\"\"\n",
        "    Replaces words that are not in the vocabulary with the <OOV> token.\n",
        "    \"\"\"\n",
        "    tokens = text.split()\n",
        "    tokens = [token if token in vocabulary else \"<OOV>\" for token in tokens]\n",
        "    return \" \".join(tokens)\n",
        "\n",
        "# Replace OOV tokens in validation and test data\n",
        "train_data['processed_text'] = train_data['cleaned_text']\n",
        "validation_data['processed_text'] = validation_data['cleaned_text'].apply(lambda x: replace_oov_tokens(x, vocabulary))\n",
        "test_data['processed_text'] = test_data['cleaned_text'].apply(lambda x: replace_oov_tokens(x, vocabulary))\n",
        "\n",
        "print(\"Processed Validation Data Example:\")\n",
        "print(validation_data[['cleaned_text', 'processed_text']].head(10))\n",
        "\n",
        "# Optional: Save the vocabulary for reuse\n",
        "import json\n",
        "with open(\"vocabulary.json\", \"w\") as vocab_file:\n",
        "    json.dump(list(vocabulary), vocab_file)\n"
      ]
    },
    {
      "cell_type": "code",
      "execution_count": 4,
      "metadata": {
        "id": "D-88KjfugDN4"
      },
      "outputs": [],
      "source": [
        "import numpy as np\n",
        "\n",
        "def create_batches(data, vocabulary, batch_size, max_document_length):\n",
        "    word_to_id = {word: idx for idx, word in enumerate(vocabulary)}\n",
        "    oov_id = word_to_id.get(\"<OOV>\", len(word_to_id))  # Use a new ID if <OOV> is missing\n",
        "\n",
        "    # Tokenize documents into word IDs\n",
        "    def tokenize_to_ids(text):\n",
        "        tokens = text.split()\n",
        "        ids = [word_to_id.get(token, oov_id) for token in tokens]\n",
        "        return ids[:max_document_length]  # Truncate to max_document_length\n",
        "\n",
        "    tokenized_data = data['processed_text'].apply(tokenize_to_ids).tolist()\n",
        "\n",
        "\n",
        "    padded_data = [\n",
        "        seq + [0] * (max_document_length - len(seq)) if len(seq) < max_document_length else seq\n",
        "        for seq in tokenized_data\n",
        "    ]\n",
        "\n",
        "\n",
        "    num_batches = len(padded_data) // batch_size\n",
        "    batches = []\n",
        "    for i in range(num_batches):\n",
        "        batch = padded_data[i * batch_size : (i + 1) * batch_size]\n",
        "        batches.append(np.array(batch))\n",
        "\n",
        "    remainder = len(padded_data) % batch_size\n",
        "    if remainder > 0:\n",
        "        last_batch = padded_data[-remainder:]\n",
        "        last_batch += [[0] * max_document_length] * (batch_size - remainder)  # Pad to batch_size\n",
        "        batches.append(np.array(last_batch))\n",
        "\n",
        "    return np.array(batches)\n"
      ]
    },
    {
      "cell_type": "code",
      "execution_count": 5,
      "metadata": {
        "id": "cyhJpeoqnV-T"
      },
      "outputs": [],
      "source": [
        "import torch\n",
        "from torch.utils.data import Dataset, DataLoader\n",
        "import numpy as np\n",
        "\n",
        "class TextDataset(Dataset):\n",
        "    def __init__(self, data, vocabulary, max_document_length):\n",
        "        self.word_to_id = {word: idx + 1 for idx, word in enumerate(vocabulary)}\n",
        "        self.oov_id = self.word_to_id.get(\"<OOV>\", len(self.word_to_id))  # Use a new ID if <OOV> is missing\n",
        "        self.max_document_length = max_document_length\n",
        "\n",
        "        # Tokenize, pad data, and store labels\n",
        "        self.data = self._process_data(data)\n",
        "        self.labels = data['label'].tolist()  # Convert labels to a list\n",
        "\n",
        "    def _process_data(self, data):\n",
        "        def tokenize_to_ids(text):\n",
        "            tokens = text.split()\n",
        "            ids = [self.word_to_id.get(token, self.oov_id) for token in tokens]\n",
        "            return ids[:self.max_document_length]  # Truncate to max_document_length\n",
        "\n",
        "        tokenized_data = data['processed_text'].apply(tokenize_to_ids).tolist()\n",
        "        padded_data = [\n",
        "            seq + [0] * (self.max_document_length - len(seq)) if len(seq) < self.max_document_length else seq\n",
        "            for seq in tokenized_data\n",
        "        ]\n",
        "        return padded_data\n",
        "\n",
        "    def __len__(self):\n",
        "        return len(self.data)\n",
        "\n",
        "    def __getitem__(self, idx):\n",
        "        id_tensor = torch.tensor(self.data[idx], dtype=torch.long)\n",
        "        label_tensor = torch.tensor(self.labels[idx], dtype=torch.long)\n",
        "        mask_tensor = (id_tensor != 0).long()\n",
        "        return id_tensor, mask_tensor, label_tensor\n"
      ]
    },
    {
      "cell_type": "code",
      "execution_count": 7,
      "metadata": {
        "colab": {
          "base_uri": "https://localhost:8080/"
        },
        "id": "H_6y_KdxgDN5",
        "outputId": "1fb5d956-456d-4a49-bd74-1a095b91ec1a"
      },
      "outputs": [
        {
          "name": "stdout",
          "output_type": "stream",
          "text": [
            "Initialized 8409 words with pre-trained embeddings.\n",
            "Randomly initialized 3664 OOV words.\n"
          ]
        }
      ],
      "source": [
        "import torch\n",
        "import numpy as np\n",
        "from gensim.downloader import load\n",
        "\n",
        "word2vec = load('word2vec-google-news-300')\n",
        "\n",
        "def create_embedding_layer_with_word2vec(vocabulary, word2vec_model, embedding_dim=300, random_seed=42):\n",
        "    np.random.seed(random_seed)\n",
        "    torch.manual_seed(random_seed)\n",
        "\n",
        "    # Create an embedding matrix\n",
        "    vocab_size = len(vocabulary) + 1\n",
        "    embedding_matrix = np.random.uniform(-0.05, 0.05, (vocab_size, embedding_dim))  # Random init for OOV words\n",
        "    oov_count = 0\n",
        "\n",
        "    for idx, word in enumerate(vocabulary):\n",
        "        if word in word2vec_model:\n",
        "            embedding_matrix[idx+1] = word2vec_model[word]  # Fetch embedding from word2vec\n",
        "        else:\n",
        "            oov_count += 1  # Count OOV words\n",
        "\n",
        "    print(f\"Initialized {vocab_size - oov_count} words with pre-trained embeddings.\")\n",
        "    print(f\"Randomly initialized {oov_count} OOV words.\")\n",
        "\n",
        "    # Convert embedding matrix to a PyTorch tensor\n",
        "    embedding_matrix = torch.tensor(embedding_matrix, dtype=torch.float32)\n",
        "\n",
        "    # Create the embedding layer\n",
        "    embedding_layer = torch.nn.Embedding.from_pretrained(embedding_matrix, freeze=False)  # Set freeze=True to keep embeddings fixed\n",
        "\n",
        "    return embedding_layer\n",
        "embedding_layer = create_embedding_layer_with_word2vec(vocabulary, word2vec, embedding_dim=300)\n",
        "\n"
      ]
    },
    {
      "cell_type": "code",
      "execution_count": 58,
      "metadata": {
        "colab": {
          "base_uri": "https://localhost:8080/"
        },
        "id": "Z5oHl46C_JQH",
        "outputId": "13428274-968d-4a53-f004-bea48df379e0"
      },
      "outputs": [
        {
          "data": {
            "text/plain": [
              "torch.Size([3, 300])"
            ]
          },
          "execution_count": 58,
          "metadata": {},
          "output_type": "execute_result"
        }
      ],
      "source": [
        "torch.tensor(np.array([[90,3123,122,2323],[90,3123,122,2323],[90,3123,122,2323]]))\n",
        "embedding_layer(torch.tensor(np.array([[90,3123,122,2323],[90,3123,122,2323],[90,3123,122,2323]])).to(device)).mean(dim=1).shape"
      ]
    },
    {
      "cell_type": "code",
      "execution_count": 8,
      "metadata": {
        "id": "oQMKkw_pgDN5"
      },
      "outputs": [],
      "source": [
        "import torch\n",
        "import torch.nn as nn\n",
        "import torch.nn.functional as F\n",
        "\n",
        "class ClassificationAverageModel(nn.Module):\n",
        "    def __init__(self, embedding_layer, num_classes, embedding_dim):\n",
        "        super(ClassificationAverageModel, self).__init__()\n",
        "        # Embedding layer\n",
        "        self.embedding = embedding_layer\n",
        "        self.fc = nn.Linear(embedding_dim, num_classes)\n",
        "\n",
        "    def forward(self, input_ids, mask):\n",
        "        embeddings = self.embedding(input_ids)  # (batch_size, seq_len, embedding_dim)\n",
        "        masked_embeddings = embeddings * mask.unsqueeze(-1)  # Apply mask\n",
        "        lengths = mask.sum(dim=1, keepdim=True)  # Count valid tokens\n",
        "        docs_mean = masked_embeddings.sum(dim=1) / lengths.clamp(min=1)  # Mean over valid tokens\n",
        "        logits = self.fc(docs_mean)\n",
        "\n",
        "        return logits\n"
      ]
    },
    {
      "cell_type": "code",
      "execution_count": 12,
      "metadata": {
        "colab": {
          "base_uri": "https://localhost:8080/",
          "height": 426
        },
        "id": "sd5QmdKugDN5",
        "outputId": "ee42026a-bcea-4ea9-abf2-074f5babe2af"
      },
      "outputs": [
        {
          "name": "stdout",
          "output_type": "stream",
          "text": [
            "Epoch 1/3\n",
            "--------------------------------------------------\n",
            "| Batch   100 | Loss: 2.4792 | Time/Batch: 29.00 ms |\n",
            "| Batch   200 | Loss: 2.3690 | Time/Batch: 28.03 ms |\n",
            "| Batch   300 | Loss: 2.2702 | Time/Batch: 28.33 ms |\n"
          ]
        },
        {
          "name": "stderr",
          "output_type": "stream",
          "text": [
            "c:\\ProgramData\\anaconda3\\envs\\nlp\\lib\\site-packages\\sklearn\\metrics\\_classification.py:1469: UndefinedMetricWarning: Precision and F-score are ill-defined and being set to 0.0 in labels with no predicted samples. Use `zero_division` parameter to control this behavior.\n",
            "  _warn_prf(average, modifier, msg_start, len(result))\n",
            "c:\\ProgramData\\anaconda3\\envs\\nlp\\lib\\site-packages\\sklearn\\metrics\\_classification.py:1469: UndefinedMetricWarning: Precision and F-score are ill-defined and being set to 0.0 in labels with no predicted samples. Use `zero_division` parameter to control this behavior.\n",
            "  _warn_prf(average, modifier, msg_start, len(result))\n",
            "c:\\ProgramData\\anaconda3\\envs\\nlp\\lib\\site-packages\\sklearn\\metrics\\_classification.py:1469: UndefinedMetricWarning: Precision and F-score are ill-defined and being set to 0.0 in labels with no predicted samples. Use `zero_division` parameter to control this behavior.\n",
            "  _warn_prf(average, modifier, msg_start, len(result))\n"
          ]
        },
        {
          "name": "stdout",
          "output_type": "stream",
          "text": [
            "| End of Epoch   1 | Validation Accuracy: 0.5239 |\n",
            "--------------------------------------------------\n",
            "New best model saved with accuracy: 0.5239\n",
            "Epoch 2/3\n",
            "--------------------------------------------------\n",
            "| Batch   100 | Loss: 2.1522 | Time/Batch: 28.69 ms |\n",
            "| Batch   200 | Loss: 2.0486 | Time/Batch: 28.62 ms |\n",
            "| Batch   300 | Loss: 1.9964 | Time/Batch: 27.70 ms |\n"
          ]
        },
        {
          "name": "stderr",
          "output_type": "stream",
          "text": [
            "c:\\ProgramData\\anaconda3\\envs\\nlp\\lib\\site-packages\\sklearn\\metrics\\_classification.py:1469: UndefinedMetricWarning: Precision and F-score are ill-defined and being set to 0.0 in labels with no predicted samples. Use `zero_division` parameter to control this behavior.\n",
            "  _warn_prf(average, modifier, msg_start, len(result))\n",
            "c:\\ProgramData\\anaconda3\\envs\\nlp\\lib\\site-packages\\sklearn\\metrics\\_classification.py:1469: UndefinedMetricWarning: Precision and F-score are ill-defined and being set to 0.0 in labels with no predicted samples. Use `zero_division` parameter to control this behavior.\n",
            "  _warn_prf(average, modifier, msg_start, len(result))\n",
            "c:\\ProgramData\\anaconda3\\envs\\nlp\\lib\\site-packages\\sklearn\\metrics\\_classification.py:1469: UndefinedMetricWarning: Precision and F-score are ill-defined and being set to 0.0 in labels with no predicted samples. Use `zero_division` parameter to control this behavior.\n",
            "  _warn_prf(average, modifier, msg_start, len(result))\n"
          ]
        },
        {
          "name": "stdout",
          "output_type": "stream",
          "text": [
            "| End of Epoch   2 | Validation Accuracy: 0.5254 |\n",
            "--------------------------------------------------\n",
            "New best model saved with accuracy: 0.5254\n",
            "Epoch 3/3\n",
            "--------------------------------------------------\n",
            "| Batch   100 | Loss: 1.9060 | Time/Batch: 28.79 ms |\n",
            "| Batch   200 | Loss: 1.8387 | Time/Batch: 28.16 ms |\n",
            "| Batch   300 | Loss: 1.7692 | Time/Batch: 28.43 ms |\n"
          ]
        },
        {
          "name": "stderr",
          "output_type": "stream",
          "text": [
            "c:\\ProgramData\\anaconda3\\envs\\nlp\\lib\\site-packages\\sklearn\\metrics\\_classification.py:1469: UndefinedMetricWarning: Precision and F-score are ill-defined and being set to 0.0 in labels with no predicted samples. Use `zero_division` parameter to control this behavior.\n",
            "  _warn_prf(average, modifier, msg_start, len(result))\n",
            "c:\\ProgramData\\anaconda3\\envs\\nlp\\lib\\site-packages\\sklearn\\metrics\\_classification.py:1469: UndefinedMetricWarning: Precision and F-score are ill-defined and being set to 0.0 in labels with no predicted samples. Use `zero_division` parameter to control this behavior.\n",
            "  _warn_prf(average, modifier, msg_start, len(result))\n",
            "c:\\ProgramData\\anaconda3\\envs\\nlp\\lib\\site-packages\\sklearn\\metrics\\_classification.py:1469: UndefinedMetricWarning: Precision and F-score are ill-defined and being set to 0.0 in labels with no predicted samples. Use `zero_division` parameter to control this behavior.\n",
            "  _warn_prf(average, modifier, msg_start, len(result))\n"
          ]
        },
        {
          "name": "stdout",
          "output_type": "stream",
          "text": [
            "| End of Epoch   3 | Validation Accuracy: 0.5508 |\n",
            "--------------------------------------------------\n",
            "New best model saved with accuracy: 0.5508\n",
            "Training complete.\n",
            "Test Accuracy: 0.5607\n"
          ]
        },
        {
          "name": "stderr",
          "output_type": "stream",
          "text": [
            "c:\\ProgramData\\anaconda3\\envs\\nlp\\lib\\site-packages\\sklearn\\metrics\\_classification.py:1469: UndefinedMetricWarning: Precision and F-score are ill-defined and being set to 0.0 in labels with no predicted samples. Use `zero_division` parameter to control this behavior.\n",
            "  _warn_prf(average, modifier, msg_start, len(result))\n",
            "c:\\ProgramData\\anaconda3\\envs\\nlp\\lib\\site-packages\\sklearn\\metrics\\_classification.py:1469: UndefinedMetricWarning: Precision and F-score are ill-defined and being set to 0.0 in labels with no predicted samples. Use `zero_division` parameter to control this behavior.\n",
            "  _warn_prf(average, modifier, msg_start, len(result))\n",
            "c:\\ProgramData\\anaconda3\\envs\\nlp\\lib\\site-packages\\sklearn\\metrics\\_classification.py:1469: UndefinedMetricWarning: Precision and F-score are ill-defined and being set to 0.0 in labels with no predicted samples. Use `zero_division` parameter to control this behavior.\n",
            "  _warn_prf(average, modifier, msg_start, len(result))\n"
          ]
        }
      ],
      "source": [
        "from sklearn.metrics import classification_report\n",
        "import time\n",
        "import torch.nn as nn\n",
        "\n",
        "# Hyperparameters\n",
        "EPOCHS = 3            # Number of epochs\n",
        "LEARNING_RATE = 0.0001  # Learning rate\n",
        "WEIGHT_DECAY = 1.2e-6 # Weight decay\n",
        "CLIP = 0.25           # Gradient clipping (set None to disable)\n",
        "LOG_INTERVAL = 100    # Logging interval\n",
        "SAVE_PATH = \"best_ClassificationAverageModel_model.pth\"  # Save path for the best model\n",
        "BATCH_SIZE = 32\n",
        "max_document_length = 300\n",
        "\n",
        "\n",
        "# Create batches from the training data\n",
        "dataset_train = TextDataset(train_data, vocabulary, max_document_length)\n",
        "dataset_val = TextDataset(validation_data, vocabulary, max_document_length)\n",
        "dataset_test = TextDataset(test_data, vocabulary, max_document_length)\n",
        "dataloader_train = torch.utils.data.DataLoader(dataset_train, batch_size=BATCH_SIZE, shuffle=True)\n",
        "dataloader_val = torch.utils.data.DataLoader(dataset_val, batch_size=BATCH_SIZE, shuffle=False)\n",
        "dataloader_test = torch.utils.data.DataLoader(dataset_test, batch_size=BATCH_SIZE, shuffle=False)\n",
        "# Model, Optimizer, and Loss Function\n",
        "model = ClassificationAverageModel(embedding_layer, num_classes=12, embedding_dim=300)\n",
        "device = torch.device(\"cuda\" if torch.cuda.is_available() else \"cpu\")\n",
        "# Optimizer and Loss Function\n",
        "optimizer = torch.optim.Adam(model.parameters(), lr=LEARNING_RATE)#, weight_decay=WEIGHT_DECAY)\n",
        "criterion = nn.CrossEntropyLoss()\n",
        "model.to(device)\n",
        "# Training Function\n",
        "def train(dataloader, model, optimizer, criterion):\n",
        "    model.train()\n",
        "    total_loss = 0\n",
        "    start_time = time.time()\n",
        "\n",
        "    for batch_idx, batch in enumerate(dataloader):\n",
        "        input, mask,labels = batch[0].to(device), batch[1].to(device), batch[2].to(device)\n",
        "        #print(input.shape)\n",
        "        #print(labels.shape)\n",
        "        optimizer.zero_grad()\n",
        "\n",
        "        logits = model(input,mask)\n",
        "        loss = criterion(logits, labels)\n",
        "\n",
        "        loss.backward()\n",
        "        if CLIP:\n",
        "            nn.utils.clip_grad_norm_(model.parameters(), CLIP)\n",
        "        optimizer.step()\n",
        "\n",
        "        # Logging\n",
        "        total_loss += loss.item()\n",
        "        if batch_idx % LOG_INTERVAL == 0 and batch_idx > 0:\n",
        "            cur_loss = total_loss / LOG_INTERVAL\n",
        "            elapsed = time.time() - start_time\n",
        "            print(f\"| Batch {batch_idx:5d} | Loss: {cur_loss:.4f} | Time/Batch: {elapsed * 1000 / LOG_INTERVAL:.2f} ms |\")\n",
        "            total_loss = 0\n",
        "            start_time = time.time()\n",
        "\n",
        "# Evaluation Function\n",
        "def evaluate(dataloader, model):\n",
        "    model.eval()\n",
        "    all_preds, all_labels = [], []\n",
        "\n",
        "    with torch.no_grad():\n",
        "        for batch in dataloader:\n",
        "            input, mask, labels = batch[0].to(device), batch[1].to(device), batch[2].to(device)\n",
        "            logits = model(input, mask)\n",
        "            preds = torch.argmax(logits, dim=1)\n",
        "            all_preds.extend(preds.cpu().numpy())\n",
        "            all_labels.extend(labels.cpu().numpy())\n",
        "\n",
        "    report = classification_report(all_labels, all_preds, output_dict=True)\n",
        "    accuracy = report[\"accuracy\"]\n",
        "    return accuracy, report\n",
        "\n",
        "# Main Training Loop\n",
        "best_val_accuracy = 0.0\n",
        "for epoch in range(1, EPOCHS + 1):\n",
        "    print(f\"Epoch {epoch}/{EPOCHS}\")\n",
        "    print(\"-\" * 50)\n",
        "\n",
        "    # Train for one epoch\n",
        "    train(dataloader_train, model, optimizer, criterion)\n",
        "\n",
        "    # Evaluate on validation set\n",
        "    val_accuracy, val_report = evaluate(dataloader_val, model)\n",
        "    print(f\"| End of Epoch {epoch:3d} | Validation Accuracy: {val_accuracy:.4f} |\")\n",
        "    print(\"-\" * 50)\n",
        "\n",
        "    # Save the best model\n",
        "    if val_accuracy > best_val_accuracy:\n",
        "        if val_accuracy - best_val_accuracy < 0.00001:\n",
        "            print(\"Early stopping triggered.\")\n",
        "            break\n",
        "        torch.save(model.state_dict(), SAVE_PATH)\n",
        "        print(f\"New best model saved with accuracy: {val_accuracy:.4f}\")\n",
        "        best_val_accuracy = val_accuracy\n",
        "\n",
        "print(\"Training complete.\")\n",
        "\n",
        "# Test Set Evaluation\n",
        "model.load_state_dict(torch.load(SAVE_PATH))\n",
        "test_accuracy, test_report = evaluate(dataloader_test, model)\n",
        "print(f\"Test Accuracy: {test_accuracy:.4f}\")"
      ]
    },
    {
      "cell_type": "code",
      "execution_count": 23,
      "metadata": {},
      "outputs": [
        {
          "name": "stdout",
          "output_type": "stream",
          "text": [
            "Index(['precision', 'recall', 'f1-score', 'support'], dtype='object')\n"
          ]
        },
        {
          "data": {
            "text/plain": [
              "<Figure size 1200x600 with 0 Axes>"
            ]
          },
          "metadata": {},
          "output_type": "display_data"
        },
        {
          "data": {
            "image/png": "[encoded data removed]",
            "text/plain": [
              "<Figure size 640x480 with 1 Axes>"
            ]
          },
          "metadata": {},
          "output_type": "display_data"
        }
      ],
      "source": [
        "import matplotlib.pyplot as plt\n",
        "import pandas as pd\n",
        "\n",
        "# Convert the report dictionary to a DataFrame for visualization\n",
        "df_report = pd.DataFrame(test_report).transpose()\n",
        "\n",
        "# Drop averages\n",
        "class_metrics = df_report.drop(['accuracy', 'macro avg', 'weighted avg'], errors='ignore')\n",
        "print(df_report.columns)\n",
        "plt.figure(figsize=(12, 6))\n",
        "class_metrics[['precision', 'recall', 'f1-score']].plot(kind='bar')\n",
        "plt.title('Validation Set')\n",
        "plt.ylabel('Score')\n",
        "plt.xlabel('Class')\n",
        "plt.xticks(rotation=45)\n",
        "plt.legend(loc='upper right')\n",
        "plt.tight_layout()\n",
        "plt.show()"
      ]
    },
    {
      "cell_type": "markdown",
      "metadata": {
        "id": "s1DOzEH2gDN5"
      },
      "source": [
        "<a name=\"section-taskB\"></a><h2 style=\"color:rgb(0,120,170)\">Task B: Document Classification with BERT (15 points)</h2>"
      ]
    },
    {
      "cell_type": "markdown",
      "metadata": {
        "id": "AXkqf_TpgDN5"
      },
      "source": [
        "This task aims to conduct the same document classification as Task A, but now by utilizing a pre-trained BERT model. Feel free to reuse any code from the previous task. The implementation of the classifier should cover the points below.\n",
        "\n",
        "**Loading BERT model (2 points):** Use the `transformers` library from `huggingface` to load a (small) pre-trained BERT model. Select a BERT model according to your available resources. The available models can be found [here](https://huggingface.co/models) and [here](https://github.com/google-research/bert).\n",
        "\n",
        "**BERT tokenization (3 points):** For training BERT models, we do not need to create a dictionary anymore, as a BERT model already contains an internal subword dictionary. Following the instruction in `transformers`'s documentation, tokenize the data using the BERT model.  \n",
        "\n",
        "**Model definition and forward function (5 points):** Define the class **`ClassificationBERTModel`** as a PyTorch model. In the initialization procedure, the model receives the loaded BERT model and stores it as the model's parameter. The parameters of the BERT model should be trainable. The forward function of the model receives a batch of data, passes this batch to BERT, and achieves the corresponding document embeddings from the output of BERT. Similar to the previous task, the document embeddings are used for classification by linearly transforming document embeddings to the vectors with the number of classes, followed by applying Softmax.\n",
        "\n",
        "**Training and overall functionality (3 points):** Train the model in a similar fashion to the previous task, namely with the proper loss function, optimization, and early stoping.\n",
        "\n",
        "**Test Set Evaluation (1 point):** After finishing the training, load the (already stored) best performing model, and use it for class prediction on the test set.\n",
        "\n",
        "**Reporting (1 point):** Report the results of the best performing model on the validation and test set in a table.\n"
      ]
    },
    {
      "cell_type": "code",
      "execution_count": null,
      "metadata": {
        "id": "XTViQ4cRgDN5",
        "outputId": "e1b6666c-3904-41d7-984d-08430416a4ac"
      },
      "outputs": [
        {
          "name": "stderr",
          "output_type": "stream",
          "text": [
            "/opt/conda/lib/python3.10/site-packages/tqdm/auto.py:21: TqdmWarning: IProgress not found. Please update jupyter and ipywidgets. See https://ipywidgets.readthedocs.io/en/stable/user_install.html\n",
            "  from .autonotebook import tqdm as notebook_tqdm\n"
          ]
        },
        {
          "name": "stdout",
          "output_type": "stream",
          "text": [
            "Loaded BERT model on cuda\n"
          ]
        }
      ],
      "source": [
        "from transformers import BertTokenizer, BertModel\n",
        "\n",
        "# Select device (use GPU if available)\n",
        "device = torch.device(\"cuda\" if torch.cuda.is_available() else \"cpu\")\n",
        "\n",
        "# Load pre-trained BERT model and tokenizer\n",
        "MODEL_NAME = \"bert-base-uncased\"\n",
        "tokenizer = BertTokenizer.from_pretrained(MODEL_NAME)\n",
        "bert_model = BertModel.from_pretrained(MODEL_NAME).to(device)\n",
        "\n",
        "print(f\"Loaded BERT model on {device}\")"
      ]
    },
    {
      "cell_type": "code",
      "execution_count": null,
      "metadata": {
        "id": "x9xG9QPogDN6",
        "outputId": "1c48c81b-28df-40e7-b5a2-38d0e18e8691"
      },
      "outputs": [
        {
          "name": "stdout",
          "output_type": "stream",
          "text": [
            "Tokenization completed.\n"
          ]
        }
      ],
      "source": [
        "def tokenize_data(data, tokenizer, max_length=100):\n",
        "    \"\"\"\n",
        "    Tokenize the input text using the BERT tokenizer.\n",
        "\n",
        "    Args:\n",
        "    - data (pd.Series): The text data to tokenize.\n",
        "    - tokenizer: Hugging Face tokenizer instance.\n",
        "    - max_length (int): Maximum length for the tokenized sequences.\n",
        "\n",
        "    Returns:\n",
        "    - Tokenized input: Dictionary with input_ids, attention_mask, etc.\n",
        "    \"\"\"\n",
        "    return tokenizer(\n",
        "        data.tolist(),\n",
        "        padding=\"max_length\",  # Pad sequences to max_length\n",
        "        truncation=True,       # Truncate sequences longer than max_length\n",
        "        max_length=max_length, # Maximum sequence length\n",
        "        return_tensors=\"pt\"    # Return as PyTorch tensors\n",
        "    )\n",
        "\n",
        "# Tokenize train, validation, and test datasets\n",
        "max_length = 100  # Define maximum sequence length\n",
        "x_train = tokenize_data(train_data[\"text\"], tokenizer, max_length)\n",
        "x_val = tokenize_data(validation_data[\"text\"], tokenizer, max_length)\n",
        "x_test = tokenize_data(test_data[\"text\"], tokenizer, max_length)\n",
        "\n",
        "# Extract labels for train, validation, and test\n",
        "y_train = train_data[\"label\"].values\n",
        "y_val = validation_data[\"label\"].values\n",
        "y_test = test_data[\"label\"].values\n",
        "\n",
        "print(\"Tokenization completed.\")"
      ]
    },
    {
      "cell_type": "code",
      "execution_count": null,
      "metadata": {
        "id": "okz89fCegDN6"
      },
      "outputs": [],
      "source": [
        "import torch.nn as nn\n",
        "import torch.nn.functional as F\n",
        "\n",
        "class ClassificationBERTModel(nn.Module):\n",
        "    def __init__(self, bert_model, num_classes):\n",
        "        super(ClassificationBERTModel, self).__init__()\n",
        "        self.bert = bert_model\n",
        "        self.classifier = nn.Linear(self.bert.config.hidden_size, num_classes)\n",
        "\n",
        "    def forward(self, input_ids, attention_mask):\n",
        "        outputs = self.bert(input_ids=input_ids, attention_mask=attention_mask)\n",
        "        pooled_output = outputs.pooler_output\n",
        "\n",
        "        logits = self.classifier(pooled_output)\n",
        "        # probabilities = F.softmax(logits, dim=-1)\n",
        "        return logits\n",
        "\n",
        "NUM_CLASSES = train_data[\"label\"].nunique()\n",
        "\n",
        "# Instantiate the model\n",
        "model = ClassificationBERTModel(bert_model, NUM_CLASSES).to(device)"
      ]
    },
    {
      "cell_type": "code",
      "execution_count": null,
      "metadata": {
        "id": "Wu74N8ePgDN6",
        "outputId": "afa785a6-5931-47ed-e322-d435405badf4"
      },
      "outputs": [
        {
          "name": "stdout",
          "output_type": "stream",
          "text": [
            "DataLoaders are ready.\n"
          ]
        }
      ],
      "source": [
        "from torch.utils.data import DataLoader, TensorDataset\n",
        "import torch\n",
        "\n",
        "# Define batch size\n",
        "BATCH_SIZE = 16\n",
        "\n",
        "# Create TensorDatasets\n",
        "dataset_train = TensorDataset(x_train['input_ids'], x_train['attention_mask'], torch.LongTensor(y_train))\n",
        "dataset_val = TensorDataset(x_val['input_ids'], x_val['attention_mask'], torch.LongTensor(y_val))\n",
        "dataset_test = TensorDataset(x_test['input_ids'], x_test['attention_mask'], torch.LongTensor(y_test))\n",
        "\n",
        "# Create DataLoaders\n",
        "dataloader_train = DataLoader(dataset_train, batch_size=BATCH_SIZE, shuffle=True, num_workers=1, drop_last=True)\n",
        "dataloader_val = DataLoader(dataset_val, batch_size=BATCH_SIZE, shuffle=False, num_workers=1)\n",
        "dataloader_test = DataLoader(dataset_test, batch_size=BATCH_SIZE, shuffle=False, num_workers=1)\n",
        "\n",
        "print(\"DataLoaders are ready.\")"
      ]
    },
    {
      "cell_type": "code",
      "execution_count": null,
      "metadata": {
        "id": "D6cF6O-fgDN6",
        "outputId": "cfa50f40-ee88-49a9-c9be-4194cbc483e7"
      },
      "outputs": [
        {
          "name": "stdout",
          "output_type": "stream",
          "text": [
            "Epoch 1/3\n",
            "--------------------------------------------------\n",
            "| Batch   100 | Loss: 1.5226 | Time/Batch: 73.74 ms |\n",
            "| Batch   200 | Loss: 0.8544 | Time/Batch: 65.66 ms |\n",
            "| Batch   300 | Loss: 0.7107 | Time/Batch: 65.69 ms |\n",
            "| Batch   400 | Loss: 0.7044 | Time/Batch: 65.88 ms |\n",
            "| Batch   500 | Loss: 0.6816 | Time/Batch: 66.29 ms |\n",
            "| Batch   600 | Loss: 0.6209 | Time/Batch: 66.51 ms |\n",
            "| Batch   700 | Loss: 0.6211 | Time/Batch: 66.54 ms |\n",
            "| End of Epoch   1 | Validation Accuracy: 0.8409 |\n",
            "--------------------------------------------------\n",
            "New best model saved with accuracy: 0.8409\n",
            "Epoch 2/3\n",
            "--------------------------------------------------\n",
            "| Batch   100 | Loss: 0.4859 | Time/Batch: 67.61 ms |\n",
            "| Batch   200 | Loss: 0.4875 | Time/Batch: 66.64 ms |\n",
            "| Batch   300 | Loss: 0.4861 | Time/Batch: 66.71 ms |\n",
            "| Batch   400 | Loss: 0.4979 | Time/Batch: 66.68 ms |\n",
            "| Batch   500 | Loss: 0.4464 | Time/Batch: 66.39 ms |\n",
            "| Batch   600 | Loss: 0.5052 | Time/Batch: 66.47 ms |\n",
            "| Batch   700 | Loss: 0.5054 | Time/Batch: 66.37 ms |\n",
            "| End of Epoch   2 | Validation Accuracy: 0.8297 |\n",
            "--------------------------------------------------\n",
            "Epoch 3/3\n",
            "--------------------------------------------------\n",
            "| Batch   100 | Loss: 0.3194 | Time/Batch: 67.43 ms |\n",
            "| Batch   200 | Loss: 0.3419 | Time/Batch: 66.42 ms |\n",
            "| Batch   300 | Loss: 0.3066 | Time/Batch: 66.47 ms |\n",
            "| Batch   400 | Loss: 0.3261 | Time/Batch: 66.45 ms |\n",
            "| Batch   500 | Loss: 0.3674 | Time/Batch: 66.53 ms |\n",
            "| Batch   600 | Loss: 0.3374 | Time/Batch: 66.46 ms |\n",
            "| Batch   700 | Loss: 0.3585 | Time/Batch: 66.50 ms |\n",
            "| End of Epoch   3 | Validation Accuracy: 0.8359 |\n",
            "--------------------------------------------------\n",
            "Training complete.\n",
            "Test Accuracy: 0.8385\n"
          ]
        }
      ],
      "source": [
        "from sklearn.metrics import classification_report\n",
        "import time\n",
        "import torch.nn as nn\n",
        "\n",
        "# Hyperparameters\n",
        "EPOCHS = 3            # Number of epochs\n",
        "LEARNING_RATE = 3e-5  # Learning rate\n",
        "WEIGHT_DECAY = 1.2e-6 # Weight decay\n",
        "CLIP = 0.25           # Gradient clipping (set None to disable)\n",
        "LOG_INTERVAL = 100    # Logging interval\n",
        "SAVE_PATH = \"best_bert_model.pth\"  # Save path for the best model\n",
        "\n",
        "# Optimizer and Loss Function\n",
        "optimizer = torch.optim.AdamW(model.parameters(), lr=LEARNING_RATE, weight_decay=WEIGHT_DECAY)\n",
        "criterion = nn.CrossEntropyLoss()\n",
        "\n",
        "# Training Function\n",
        "def train(dataloader, model, optimizer, criterion):\n",
        "    model.train()\n",
        "    total_loss = 0\n",
        "    start_time = time.time()\n",
        "\n",
        "    for batch_idx, batch in enumerate(dataloader):\n",
        "        input_ids, attention_mask, labels = batch[0].to(device), batch[1].to(device), batch[2].to(device)\n",
        "\n",
        "        optimizer.zero_grad()\n",
        "\n",
        "        logits = model(input_ids=input_ids, attention_mask=attention_mask)\n",
        "        loss = criterion(logits, labels)\n",
        "\n",
        "        loss.backward()\n",
        "        if CLIP:\n",
        "            nn.utils.clip_grad_norm_(model.parameters(), CLIP)\n",
        "        optimizer.step()\n",
        "\n",
        "        # Logging\n",
        "        total_loss += loss.item()\n",
        "        if batch_idx % LOG_INTERVAL == 0 and batch_idx > 0:\n",
        "            cur_loss = total_loss / LOG_INTERVAL\n",
        "            elapsed = time.time() - start_time\n",
        "            print(f\"| Batch {batch_idx:5d} | Loss: {cur_loss:.4f} | Time/Batch: {elapsed * 1000 / LOG_INTERVAL:.2f} ms |\")\n",
        "            total_loss = 0\n",
        "            start_time = time.time()\n",
        "\n",
        "# Evaluation Function\n",
        "def evaluate(dataloader, model):\n",
        "    model.eval()\n",
        "    all_preds, all_labels = [], []\n",
        "\n",
        "    with torch.no_grad():\n",
        "        for batch in dataloader:\n",
        "            input_ids, attention_mask, labels = batch[0].to(device), batch[1].to(device), batch[2].to(device)\n",
        "            logits = model(input_ids=input_ids, attention_mask=attention_mask)\n",
        "            preds = torch.argmax(logits, dim=1)\n",
        "            all_preds.extend(preds.cpu().numpy())\n",
        "            all_labels.extend(labels.cpu().numpy())\n",
        "\n",
        "    report = classification_report(all_labels, all_preds, output_dict=True)\n",
        "    accuracy = report[\"accuracy\"]\n",
        "    return accuracy, report\n",
        "\n",
        "# Main Training Loop\n",
        "best_val_accuracy = 0.0\n",
        "for epoch in range(1, EPOCHS + 1):\n",
        "    print(f\"Epoch {epoch}/{EPOCHS}\")\n",
        "    print(\"-\" * 50)\n",
        "\n",
        "    # Train for one epoch\n",
        "    train(dataloader_train, model, optimizer, criterion)\n",
        "\n",
        "    # Evaluate on validation set\n",
        "    val_accuracy, val_report = evaluate(dataloader_val, model)\n",
        "    print(f\"| End of Epoch {epoch:3d} | Validation Accuracy: {val_accuracy:.4f} |\")\n",
        "    print(\"-\" * 50)\n",
        "\n",
        "    # Save the best model\n",
        "    if val_accuracy > best_val_accuracy:\n",
        "        torch.save(model.state_dict(), SAVE_PATH)\n",
        "        print(f\"New best model saved with accuracy: {val_accuracy:.4f}\")\n",
        "        best_val_accuracy = val_accuracy\n",
        "\n",
        "print(\"Training complete.\")\n",
        "\n",
        "# Test Set Evaluation\n",
        "model.load_state_dict(torch.load(SAVE_PATH))\n",
        "test_accuracy, test_report = evaluate(dataloader_test, model)\n",
        "print(f\"Test Accuracy: {test_accuracy:.4f}\")"
      ]
    },
    {
      "cell_type": "code",
      "execution_count": null,
      "metadata": {
        "id": "wyEI2WRVgDN6",
        "outputId": "c1e29401-7e5a-45dd-fd06-514409bf104e"
      },
      "outputs": [
        {
          "name": "stdout",
          "output_type": "stream",
          "text": [
            "| Dataset       | Accuracy |\n",
            "|---------------|----------|\n",
            "| Validation    | 0.8359 |\n",
            "| Test          | 0.8385 |\n"
          ]
        }
      ],
      "source": [
        "print(f\"| Dataset       | Accuracy |\\n|---------------|----------|\")\n",
        "print(f\"| Validation    | {val_accuracy:.4f} |\")\n",
        "print(f\"| Test          | {test_accuracy:.4f} |\")"
      ]
    },
    {
      "cell_type": "code",
      "execution_count": null,
      "metadata": {
        "id": "jNLeMSpWgDN6",
        "outputId": "6c886bab-3756-42bc-c4b4-e60264e3d02c"
      },
      "outputs": [
        {
          "data": {
            "text/plain": [
              "<Figure size 1200x600 with 0 Axes>"
            ]
          },
          "metadata": {},
          "output_type": "display_data"
        },
        {
          "data": {
            "image/png": "[encoded data removed]",
            "text/plain": [
              "<Figure size 640x480 with 1 Axes>"
            ]
          },
          "metadata": {},
          "output_type": "display_data"
        }
      ],
      "source": [
        "import matplotlib.pyplot as plt\n",
        "import pandas as pd\n",
        "\n",
        "# Convert the report dictionary to a DataFrame for visualization\n",
        "df_report = pd.DataFrame(test_report).transpose()\n",
        "\n",
        "# Drop averages\n",
        "class_metrics = df_report.drop(['accuracy', 'macro avg', 'weighted avg'], errors='ignore')\n",
        "\n",
        "plt.figure(figsize=(12, 6))\n",
        "class_metrics[['precision', 'recall', 'f1-score']].plot(kind='bar')\n",
        "plt.title('Validation Set')\n",
        "plt.ylabel('Score')\n",
        "plt.xlabel('Class')\n",
        "plt.xticks(rotation=45)\n",
        "plt.legend(loc='upper right')\n",
        "plt.tight_layout()\n",
        "plt.show()"
      ]
    },
    {
      "cell_type": "code",
      "execution_count": null,
      "metadata": {
        "id": "38iNVuJugDN7"
      },
      "outputs": [],
      "source": []
    }
  ],
  "metadata": {
    "accelerator": "GPU",
    "colab": {
      "gpuType": "T4",
      "provenance": []
    },
    "kernelspec": {
      "display_name": "nlp",
      "language": "python",
      "name": "python3"
    },
    "language_info": {
      "codemirror_mode": {
        "name": "ipython",
        "version": 3
      },
      "file_extension": ".py",
      "mimetype": "text/x-python",
      "name": "python",
      "nbconvert_exporter": "python",
      "pygments_lexer": "ipython3",
      "version": "3.8.20"
    }
  },
  "nbformat": 4,
  "nbformat_minor": 0
}
